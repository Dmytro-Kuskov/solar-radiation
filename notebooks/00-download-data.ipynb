{
 "cells": [
  {
   "cell_type": "markdown",
   "id": "03efd998-fcf3-47ed-9c52-03df093b1fe3",
   "metadata": {},
   "source": [
    "# Download and prepare initial data for solar radiation, cloudiness and altitude model analysis.\n",
    "\n",
    "\n",
    "## Purpose of the notebook\n",
    "Download all the necessary source data for the solar radiation project from Google Drive and unzip it into the appropriate folders.\n",
    "\n",
    "---\n",
    "\n",
    "## Setting up project paths\n",
    "First, we define the main project directories:\n",
    "\n",
    "- `PROJECT_DIR` — the project root (`~/solar-radiation`)\n",
    "- `DATA_RAW` — the folder for the source data\n",
    "- `DATA_PROCESSED` — the folder for the processed data\n",
    "- `NOTEBOOKS` — the folder with notebooks\n",
    "- `OUTPUTS_FIG` — the folder for figures\n",
    "\n",
    "The code creates these folders if they do not exist yet, so that the project is structured correctly.\n",
    "\n",
    "---\n",
    "\n",
    "## Links to Google Drive\n",
    "Variables `SOLAR_ID`, `CLOUD_ID`, `ELEV_ID` contain file identifiers:\n",
    "\n",
    "- `SOLAR_ID` — solar radiation data\n",
    "- `CLOUD_ID` — cloudiness\n",
    "- `ELEV_ID` — altitude (GMTED)\n",
    "\n",
    "---\n",
    "\n",
    "## Downloading data\n",
    "Using `gdown` library to download files from Google Drive.\n",
    "\n",
    "\n",
    "## Total files size: 4,8 Gb\n",
    "\n"
   ]
  },
  {
   "cell_type": "code",
   "execution_count": 11,
   "id": "c52d2f4c-51c3-4a50-b700-13677c4afeac",
   "metadata": {},
   "outputs": [
    {
     "name": "stdout",
     "output_type": "stream",
     "text": [
      "Project: C:\\Users\\Harekiller\\solar-radiation\n"
     ]
    },
    {
     "name": "stderr",
     "output_type": "stream",
     "text": [
      "Downloading...\n",
      "From (original): https://drive.google.com/uc?id=18BzTEO0g5ZxWTkPZSNk9Wi6nd6ln_OdE\n",
      "From (redirected): https://drive.google.com/uc?id=18BzTEO0g5ZxWTkPZSNk9Wi6nd6ln_OdE&confirm=t&uuid=71a31e70-dec4-46cc-a71f-44bbd0337c64\n",
      "To: C:\\Users\\Harekiller\\solar-radiation\\data\\raw\\Solar_Radiation.zip\n",
      "100%|██████████| 2.21G/2.21G [00:22<00:00, 97.8MB/s]\n",
      "Downloading...\n",
      "From (original): https://drive.google.com/uc?id=1M7Im3SP3W6znS4C0ERVTwUlDZEUST2bu\n",
      "From (redirected): https://drive.google.com/uc?id=1M7Im3SP3W6znS4C0ERVTwUlDZEUST2bu&confirm=t&uuid=6ee144ba-16b9-4d6c-82aa-f1695cb5ba97\n",
      "To: C:\\Users\\Harekiller\\solar-radiation\\data\\raw\\Cloud_Cover.zip\n",
      "100%|██████████| 2.53G/2.53G [00:24<00:00, 101MB/s] \n",
      "Downloading...\n",
      "From: https://drive.google.com/uc?id=1R1vwnmZIFz8ZeIdvXa5N3R4we9HmoD2n\n",
      "To: C:\\Users\\Harekiller\\solar-radiation\\data\\raw\\GMTED2010_15n030_0125deg.nc\n",
      "100%|██████████| 7.47M/7.47M [00:00<00:00, 37.0MB/s]\n",
      "INFO patool: Extracting C:\\Users\\Harekiller\\solar-radiation\\data\\raw\\Solar_Radiation.zip ...\n",
      "INFO patool: could not find a 'file' executable, falling back to guess mime type by file extension\n",
      "INFO patool: running \"C:\\Program Files\\7-Zip\\7z.EXE\" x -aou -oC:\\Users\\Harekiller\\solar-radiation\\data\\raw\\Solar_Radiation -- C:\\Users\\Harekiller\\solar-radiation\\data\\raw\\Solar_Radiation.zip\n",
      "INFO patool: ... C:\\Users\\Harekiller\\solar-radiation\\data\\raw\\Solar_Radiation.zip extracted to `C:\\Users\\Harekiller\\solar-radiation\\data\\raw\\Solar_Radiation'.\n",
      "INFO patool: Extracting C:\\Users\\Harekiller\\solar-radiation\\data\\raw\\Cloud_Cover.zip ...\n",
      "INFO patool: could not find a 'file' executable, falling back to guess mime type by file extension\n",
      "INFO patool: running \"C:\\Program Files\\7-Zip\\7z.EXE\" x -aou -oC:\\Users\\Harekiller\\solar-radiation\\data\\raw\\Cloud_Cover -- C:\\Users\\Harekiller\\solar-radiation\\data\\raw\\Cloud_Cover.zip\n"
     ]
    },
    {
     "name": "stdout",
     "output_type": "stream",
     "text": [
      "Extracted Solar_Radiation.zip -> C:\\Users\\Harekiller\\solar-radiation\\data\\raw\\Solar_Radiation\n"
     ]
    },
    {
     "name": "stderr",
     "output_type": "stream",
     "text": [
      "INFO patool: ... C:\\Users\\Harekiller\\solar-radiation\\data\\raw\\Cloud_Cover.zip extracted to `C:\\Users\\Harekiller\\solar-radiation\\data\\raw\\Cloud_Cover'.\n"
     ]
    },
    {
     "name": "stdout",
     "output_type": "stream",
     "text": [
      "Extracted Cloud_Cover.zip -> C:\\Users\\Harekiller\\solar-radiation\\data\\raw\\Cloud_Cover\n"
     ]
    }
   ],
   "source": [
    "from pathlib import Path\n",
    "import zipfile\n",
    "import gdown\n",
    "\n",
    "PROJECT_DIR   = Path.home() / \"solar-radiation\"\n",
    "DATA_RAW      = PROJECT_DIR / \"data\" / \"raw\"\n",
    "DATA_PROCESSED= PROJECT_DIR / \"data\" / \"processed\"\n",
    "NOTEBOOKS     = PROJECT_DIR / \"notebooks\"\n",
    "OUTPUTS_FIG   = PROJECT_DIR / \"outputs\" / \"figures\"\n",
    "\n",
    "for p in [DATA_RAW, DATA_PROCESSED, NOTEBOOKS, OUTPUTS_FIG]:\n",
    "    p.mkdir(parents=True, exist_ok=True)\n",
    "\n",
    "print(\"Project:\", PROJECT_DIR)\n",
    "\n",
    "# ---- Google Drive Links ----\n",
    "SOLAR_ID = \"18BzTEO0g5ZxWTkPZSNk9Wi6nd6ln_OdE\"\n",
    "CLOUD_ID = \"1M7Im3SP3W6znS4C0ERVTwUlDZEUST2bu\"  \n",
    "ELEV_ID  = \"1R1vwnmZIFz8ZeIdvXa5N3R4we9HmoD2n\"\n",
    "\n",
    "# Downloading\n",
    "solar_zip = DATA_RAW / \"Solar_Radiation.zip\"\n",
    "cloud_zip = DATA_RAW / \"Cloud_Cover.zip\"\n",
    "elev_nc   = DATA_RAW / \"GMTED2010_15n030_0125deg.nc\"\n",
    "\n",
    "gdown.download(f\"https://drive.google.com/uc?id={SOLAR_ID}\", str(solar_zip), quiet=False)\n",
    "gdown.download(f\"https://drive.google.com/uc?id={CLOUD_ID}\", str(cloud_zip), quiet=False)\n",
    "gdown.download(f\"https://drive.google.com/uc?id={ELEV_ID}\",  str(elev_nc),   quiet=False)\n",
    "\n",
    "# Unpacking\n",
    "\n",
    "import patoolib\n",
    "\n",
    "for z in [solar_zip, cloud_zip]:\n",
    "    target = DATA_RAW / z.stem\n",
    "    target.mkdir(exist_ok=True)\n",
    "    patoolib.extract_archive(str(z), outdir=str(target))\n",
    "    print(f\"Extracted {z.name} -> {target}\")\n",
    "\n",
    "\n"
   ]
  }
 ],
 "metadata": {
  "kernelspec": {
   "display_name": "Python [conda env:base] *",
   "language": "python",
   "name": "conda-base-py"
  },
  "language_info": {
   "codemirror_mode": {
    "name": "ipython",
    "version": 3
   },
   "file_extension": ".py",
   "mimetype": "text/x-python",
   "name": "python",
   "nbconvert_exporter": "python",
   "pygments_lexer": "ipython3",
   "version": "3.12.3"
  }
 },
 "nbformat": 4,
 "nbformat_minor": 5
}
